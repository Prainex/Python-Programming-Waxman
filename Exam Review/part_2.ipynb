{
 "cells": [
  {
   "cell_type": "markdown",
   "metadata": {},
   "source": [
    "print(\"Hello World!\")"
   ]
  },
  {
   "cell_type": "code",
   "execution_count": null,
   "metadata": {},
   "outputs": [
    {
     "name": "stdout",
     "output_type": "stream",
     "text": [
      "Hello World!\n"
     ]
    }
   ],
   "source": [
    "# My first program!\n",
    "print(\"Hello World!\")"
   ]
  },
  {
   "cell_type": "code",
   "execution_count": 4,
   "metadata": {},
   "outputs": [
    {
     "name": "stdout",
     "output_type": "stream",
     "text": [
      "1 2 3\n"
     ]
    }
   ],
   "source": [
    "x = 1\n",
    "y = 2\n",
    "z = x + y\n",
    "print (x, y, z)"
   ]
  },
  {
   "cell_type": "code",
   "execution_count": 6,
   "metadata": {},
   "outputs": [
    {
     "name": "stdout",
     "output_type": "stream",
     "text": [
      "5 5 5\n",
      "1 2 3\n"
     ]
    }
   ],
   "source": [
    "x = y = z = 5\n",
    "print (x, y, z) #Extended Assignment\n",
    "\n",
    "x, y, z = 1, 2, 3\n",
    "print (x, y, z) #Tuples \"unpacking\""
   ]
  },
  {
   "cell_type": "markdown",
   "metadata": {},
   "source": [
    "Augmented assignment is the combination, in a single statement, of a binary operation and an \n",
    "assignment statement:"
   ]
  },
  {
   "cell_type": "code",
   "execution_count": 8,
   "metadata": {},
   "outputs": [
    {
     "name": "stdout",
     "output_type": "stream",
     "text": [
      "2\n",
      "3\n"
     ]
    }
   ],
   "source": [
    "x=1\n",
    "\n",
    "x = x + 1\n",
    "print(x)\n",
    "#or \n",
    "\n",
    "x+=1\n",
    "\n",
    "print (x)"
   ]
  },
  {
   "cell_type": "markdown",
   "metadata": {},
   "source": [
    "How do we get input from the keyboard to use in our program?"
   ]
  },
  {
   "cell_type": "code",
   "execution_count": 10,
   "metadata": {},
   "outputs": [
    {
     "name": "stdout",
     "output_type": "stream",
     "text": [
      "Hello\n",
      "Arvind\n",
      "HelloArvind\n"
     ]
    }
   ],
   "source": [
    "name = input(\"What's your name\")\n",
    "print(\"Hello\\n\" + name)\n",
    "print(\"Hello\" + name)"
   ]
  },
  {
   "cell_type": "markdown",
   "metadata": {},
   "source": [
    "What will the following program print? \n",
    " \n",
    "print('Hello') \n",
    "print('My name is <put your name here>') #insert your name"
   ]
  },
  {
   "cell_type": "code",
   "execution_count": 11,
   "metadata": {},
   "outputs": [
    {
     "name": "stdout",
     "output_type": "stream",
     "text": [
      "Hello\n",
      "My name is Arvind\n"
     ]
    }
   ],
   "source": [
    "print('Hello')\n",
    "print('My name is Arvind')"
   ]
  },
  {
   "cell_type": "markdown",
   "metadata": {},
   "source": [
    "Rewrite the above program usinig only one print statement."
   ]
  },
  {
   "cell_type": "code",
   "execution_count": 12,
   "metadata": {},
   "outputs": [
    {
     "name": "stdout",
     "output_type": "stream",
     "text": [
      "Hello\n",
      "My name is Arvind\n"
     ]
    }
   ],
   "source": [
    "print(\"Hello\\nMy name is Arvind\")"
   ]
  },
  {
   "cell_type": "markdown",
   "metadata": {},
   "source": [
    "Write a program to ask a “user” to type their name. Then have your program greet them."
   ]
  },
  {
   "cell_type": "code",
   "execution_count": 13,
   "metadata": {},
   "outputs": [
    {
     "name": "stdout",
     "output_type": "stream",
     "text": [
      "Hello Jerry !\n"
     ]
    }
   ],
   "source": [
    "user = input(\"Please enter your name: \")\n",
    "print(\"Hello \" + user + \" !\")"
   ]
  },
  {
   "cell_type": "markdown",
   "metadata": {},
   "source": [
    "Modify the above program so that the “!” follows the name without an intervening blank. "
   ]
  },
  {
   "cell_type": "code",
   "execution_count": 16,
   "metadata": {},
   "outputs": [
    {
     "name": "stdout",
     "output_type": "stream",
     "text": [
      "Hello Jerry!\n"
     ]
    }
   ],
   "source": [
    "user = input(\"Please enter your name: \")\n",
    "print(\"Hello \" + user + \"!\")"
   ]
  },
  {
   "cell_type": "markdown",
   "metadata": {},
   "source": [
    "Write a program to prompt the user for two numbers. Your program will then print the sum."
   ]
  },
  {
   "cell_type": "code",
   "execution_count": 20,
   "metadata": {},
   "outputs": [
    {
     "name": "stdout",
     "output_type": "stream",
     "text": [
      "The sum of  4  and  5  is  9\n"
     ]
    }
   ],
   "source": [
    "n1 = int(input(\"Enter the first number\"))\n",
    "n2 = int(input(\"Enter the second number\"))\n",
    "sum = n1 + n2\n",
    "print(\"The sum of \",n1,\" and \", n2, \" is \", sum)"
   ]
  },
  {
   "cell_type": "markdown",
   "metadata": {},
   "source": [
    "Modify your answer to above problem so we get the following: \n",
    "\n",
    "Sum\n",
    "Difference\n",
    "product\n",
    "integer division\n",
    "float division\n",
    "remainder of dividing"
   ]
  },
  {
   "cell_type": "code",
   "execution_count": 21,
   "metadata": {},
   "outputs": [
    {
     "name": "stdout",
     "output_type": "stream",
     "text": [
      "The sum of  5  and  7  is  12\n",
      "The difference of  5  and  7  is  -2\n",
      "The product of  5  and  7  is  35\n",
      "The integer division of  5  and  7  is  0\n",
      "The float division of  5  and  7  is  0.7142857142857143\n",
      "The remainder of  5  and  7  is  5\n"
     ]
    }
   ],
   "source": [
    "n1 = int(input(\"Enter the first number\"))\n",
    "n2 = int(input(\"Enter the second number\"))\n",
    "\n",
    "sum = n1 + n2\n",
    "difference = n1 - n2\n",
    "product = n1 * n2\n",
    "intdivision = n1 // n2\n",
    "floatdivision = n1 / n2\n",
    "remainder = n1 % n2\n",
    "\n",
    "print(\"The sum of \",n1,\" and \", n2, \" is \", sum)\n",
    "print(\"The difference of \",n1,\" and \", n2, \" is \", difference)\n",
    "print(\"The product of \",n1,\" and \", n2, \" is \", product)\n",
    "print(\"The integer division of \",n1,\" and \", n2, \" is \", intdivision)\n",
    "print(\"The float division of \",n1,\" and \", n2, \" is \", floatdivision)\n",
    "print(\"The remainder of \",n1,\" and \", n2, \" is \", remainder)\n"
   ]
  },
  {
   "cell_type": "markdown",
   "metadata": {},
   "source": [
    "Write a program to ask the user their age in years. Your program should calculate and print their age in \n",
    "seconds."
   ]
  },
  {
   "cell_type": "code",
   "execution_count": 24,
   "metadata": {},
   "outputs": [
    {
     "name": "stdout",
     "output_type": "stream",
     "text": [
      "You are  662256000  seconds old in years.\n"
     ]
    }
   ],
   "source": [
    "years = int(input(\"How old are you?\"))\n",
    "seconds = years * 365 * 24 * 60 * 60\n",
    "print(\"You are \", seconds, \" seconds old in years.\")"
   ]
  },
  {
   "cell_type": "markdown",
   "metadata": {},
   "source": [
    "Write a program that asks the user to enter a temperature in Fahrenheit. Your program should calculate \n",
    "and print the temperature in Centigrade. "
   ]
  },
  {
   "cell_type": "code",
   "execution_count": null,
   "metadata": {},
   "outputs": [
    {
     "name": "stdout",
     "output_type": "stream",
     "text": [
      "It is  10.0  degrees in centrigrade.\n"
     ]
    }
   ],
   "source": [
    "fahrenheit = int(input(\"What's the weather today? How many degrees is it?\"))\n",
    "centigrade = (fahrenheit - 32) * 5.0/9.0\n",
    "\n",
    "print (\"It is \", centigrade, \" degrees in centrigrade.\")\n",
    "#input = 50"
   ]
  },
  {
   "cell_type": "markdown",
   "metadata": {},
   "source": [
    "Given a temperature in Centigrade, write the assignment statement to calculate the temperature in \n",
    "Fahrenheit. Now, do it the other way, i.e. go from Fahrenheit to Celsius."
   ]
  },
  {
   "cell_type": "code",
   "execution_count": null,
   "metadata": {},
   "outputs": [
    {
     "name": "stdout",
     "output_type": "stream",
     "text": [
      "It is  69.8  degrees in fahrenheit\n"
     ]
    }
   ],
   "source": [
    "centigrade = int(input(\"What's the weather today?\"))\n",
    "fahrenheit = centigrade * 9/5 + 32\n",
    "print (\"It is \", fahrenheit, \" degrees in fahrenheit\")\n",
    "#input = 21"
   ]
  },
  {
   "cell_type": "markdown",
   "metadata": {},
   "source": [
    "Write a program that asks the user to enter an integer. Your program should “echo” the input and print \n",
    "True if the number is even and False if the number is odd."
   ]
  },
  {
   "cell_type": "code",
   "execution_count": 2,
   "metadata": {},
   "outputs": [
    {
     "name": "stdout",
     "output_type": "stream",
     "text": [
      "False\n"
     ]
    }
   ],
   "source": [
    "num = int(input(\"Please enter a number\"))\n",
    "if num % 2 == 0: \n",
    "    print(\"True\")\n",
    "else: \n",
    "    print(\"False\")"
   ]
  },
  {
   "cell_type": "markdown",
   "metadata": {},
   "source": [
    "Write a program that asks the user to enter an integer. Your program should “echo” the input and print \n",
    "EVEN if the number is even and ODD if the number is odd. "
   ]
  },
  {
   "cell_type": "code",
   "execution_count": 4,
   "metadata": {},
   "outputs": [
    {
     "name": "stdout",
     "output_type": "stream",
     "text": [
      "ODD\n"
     ]
    }
   ],
   "source": [
    "num = int(input(\"Please enter a number\"))\n",
    "if num % 2 == 0:\n",
    "    print(\"EVEN\")\n",
    "else: \n",
    "    print(\"ODD\")"
   ]
  },
  {
   "cell_type": "markdown",
   "metadata": {},
   "source": [
    "Write a program that will calculate a worker’s pay given the number of hours worked and the rate per \n",
    "hour. Both values could be floats, for example if someone worked 35.5 hours at a rate of $35.75 an \n",
    "hour.  Work through the example above."
   ]
  },
  {
   "cell_type": "code",
   "execution_count": 6,
   "metadata": {},
   "outputs": [
    {
     "name": "stdout",
     "output_type": "stream",
     "text": [
      "You earned $625.0 for 25.0 work at $25.0 dollars/hour\n"
     ]
    }
   ],
   "source": [
    "hours = float(input(\"Please enter the number of hours that you worked:\"))\n",
    "rate = float(input(\"Please enter the hours rate:\"))\n",
    "print(f\"You earned ${hours * rate} for {hours} work at ${rate} dollars/hour\")"
   ]
  },
  {
   "cell_type": "code",
   "execution_count": 7,
   "metadata": {},
   "outputs": [
    {
     "name": "stdout",
     "output_type": "stream",
     "text": [
      "[0, 1, 4, 9, 16, 25, 36, 49, 64, 81]\n"
     ]
    }
   ],
   "source": [
    "squares = [x**2 for x in range(10)]\n",
    "print(squares)"
   ]
  },
  {
   "cell_type": "code",
   "execution_count": 10,
   "metadata": {},
   "outputs": [
    {
     "name": "stdout",
     "output_type": "stream",
     "text": [
      "[0, 0, 0, 0, 0, 0, 0, 0, 0]\n",
      "[[0, 0, 0], [0, 0, 0], [0, 0, 0]]\n"
     ]
    }
   ],
   "source": [
    "x = 9*[0]\n",
    "print(x)\n",
    "\n",
    "x = [[0, 0, 0]]\n",
    "print (3*x)"
   ]
  }
 ],
 "metadata": {
  "kernelspec": {
   "display_name": "Python 3",
   "language": "python",
   "name": "python3"
  },
  "language_info": {
   "codemirror_mode": {
    "name": "ipython",
    "version": 3
   },
   "file_extension": ".py",
   "mimetype": "text/x-python",
   "name": "python",
   "nbconvert_exporter": "python",
   "pygments_lexer": "ipython3",
   "version": "3.12.0"
  }
 },
 "nbformat": 4,
 "nbformat_minor": 2
}
