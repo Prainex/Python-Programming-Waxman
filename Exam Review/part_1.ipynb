{
 "cells": [
  {
   "cell_type": "markdown",
   "metadata": {},
   "source": [
    "3*\"hello\"\n",
    "\n",
    "what about 0*\"hello\""
   ]
  },
  {
   "cell_type": "code",
   "execution_count": 2,
   "metadata": {},
   "outputs": [
    {
     "name": "stdout",
     "output_type": "stream",
     "text": [
      "HelloHelloHello\n",
      "\n"
     ]
    }
   ],
   "source": [
    "print(3*'Hello')\n",
    "print(0*'hello')"
   ]
  },
  {
   "cell_type": "markdown",
   "metadata": {},
   "source": [
    ">>> (7>5) * 6\n",
    "6\n",
    ">>> (7<5) * 6\n",
    "0\n",
    "\n",
    "What is going on? How can we multiply (7>5) which evaluates to True by a number and get a number? \n",
    "Same question with (7<5)."
   ]
  },
  {
   "cell_type": "markdown",
   "metadata": {},
   "source": [
    "(7>5) evaluates to True which is equivalent to 1 in arithmetic whereas (7<5) evaluates to False, equivalent to 0. "
   ]
  },
  {
   "cell_type": "code",
   "execution_count": 4,
   "metadata": {},
   "outputs": [
    {
     "name": "stdout",
     "output_type": "stream",
     "text": [
      "True\n",
      "False\n",
      "6\n",
      "0\n"
     ]
    }
   ],
   "source": [
    "a = (7>5)\n",
    "print (a)\n",
    "b = (7<5) \n",
    "print (b)\n",
    "\n",
    "print (a * 6)\n",
    "print (b * 6)"
   ]
  },
  {
   "cell_type": "markdown",
   "metadata": {},
   "source": [
    "print 1, 2, 3 all on one line. \n",
    "print the values 1, 2, 3 one per line. DO this in two ways"
   ]
  },
  {
   "cell_type": "code",
   "execution_count": 1,
   "metadata": {},
   "outputs": [
    {
     "name": "stdout",
     "output_type": "stream",
     "text": [
      "1 2 3\n",
      "1 2 3\n",
      "1\n",
      "2\n",
      "3\n",
      "1\n",
      "2\n",
      "3\n",
      "1\n",
      "2\n",
      "3\n"
     ]
    }
   ],
   "source": [
    "print (1, 2, 3)\n",
    "print (1, 2, 3, end = '\\n')\n",
    "\n",
    "print(1, 2, 3, sep='\\n')\n",
    "print(1)\n",
    "print(2)\n",
    "print(3)\n",
    "print(\"1\\n2\\n3\")\n",
    "\n"
   ]
  }
 ],
 "metadata": {
  "kernelspec": {
   "display_name": "Python 3",
   "language": "python",
   "name": "python3"
  },
  "language_info": {
   "codemirror_mode": {
    "name": "ipython",
    "version": 3
   },
   "file_extension": ".py",
   "mimetype": "text/x-python",
   "name": "python",
   "nbconvert_exporter": "python",
   "pygments_lexer": "ipython3",
   "version": "3.12.0"
  }
 },
 "nbformat": 4,
 "nbformat_minor": 2
}
