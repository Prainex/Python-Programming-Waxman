{
 "cells": [
  {
   "cell_type": "markdown",
   "metadata": {},
   "source": []
  },
  {
   "cell_type": "code",
   "execution_count": 3,
   "metadata": {},
   "outputs": [
    {
     "name": "stderr",
     "output_type": "stream",
     "text": [
      "<>:8: SyntaxWarning: list indices must be integers or slices, not tuple; perhaps you missed a comma?\n",
      "<>:8: SyntaxWarning: list indices must be integers or slices, not tuple; perhaps you missed a comma?\n",
      "/var/folders/gg/8j50wt_s1dn7kw7grcf7djzw0000gn/T/ipykernel_17748/3204907049.py:8: SyntaxWarning: list indices must be integers or slices, not tuple; perhaps you missed a comma?\n",
      "  a = [[1,2,3] [1, 2, 3] [1 ,2, 3]]\n"
     ]
    },
    {
     "ename": "TypeError",
     "evalue": "list indices must be integers or slices, not tuple",
     "output_type": "error",
     "traceback": [
      "\u001b[0;31m---------------------------------------------------------------------------\u001b[0m",
      "\u001b[0;31mTypeError\u001b[0m                                 Traceback (most recent call last)",
      "Cell \u001b[0;32mIn[3], line 8\u001b[0m\n\u001b[1;32m      5\u001b[0m             \u001b[38;5;28msum\u001b[39m \u001b[38;5;241m+\u001b[39m\u001b[38;5;241m=\u001b[39m x[i][y]\n\u001b[1;32m      6\u001b[0m     \u001b[38;5;28;01mreturn\u001b[39;00m \u001b[38;5;28msum\u001b[39m\n\u001b[0;32m----> 8\u001b[0m a \u001b[38;5;241m=\u001b[39m [\u001b[43m[\u001b[49m\u001b[38;5;241;43m1\u001b[39;49m\u001b[43m,\u001b[49m\u001b[38;5;241;43m2\u001b[39;49m\u001b[43m,\u001b[49m\u001b[38;5;241;43m3\u001b[39;49m\u001b[43m]\u001b[49m\u001b[43m \u001b[49m\u001b[43m[\u001b[49m\u001b[38;5;241;43m1\u001b[39;49m\u001b[43m,\u001b[49m\u001b[43m \u001b[49m\u001b[38;5;241;43m2\u001b[39;49m\u001b[43m,\u001b[49m\u001b[43m \u001b[49m\u001b[38;5;241;43m3\u001b[39;49m\u001b[43m]\u001b[49m [\u001b[38;5;241m1\u001b[39m ,\u001b[38;5;241m2\u001b[39m, \u001b[38;5;241m3\u001b[39m]]\n\u001b[1;32m      9\u001b[0m \u001b[38;5;28mprint\u001b[39m (reverse_diagonal_sum(x))\n",
      "\u001b[0;31mTypeError\u001b[0m: list indices must be integers or slices, not tuple"
     ]
    }
   ],
   "source": [
    "def reverse_diagonal_sum (x):\n",
    "    sum  = 0\n",
    "    for i in range(len(x[0])):\n",
    "        for y in range(len(x[0]), -1, -1):\n",
    "            sum += x[i][y]\n",
    "    return sum\n",
    "\n",
    "a = [[1,2,3] [1, 2, 3] [1 ,2, 3]]\n",
    "print (reverse_diagonal_sum(x))"
   ]
  },
  {
   "cell_type": "markdown",
   "metadata": {},
   "source": [
    "List Comprehensions\n",
    "\n",
    "[expression using a value from an iterable  for iterable  if conditions]\n",
    "                (1)                             (2)             (3)\n",
    "\n"
   ]
  },
  {
   "cell_type": "markdown",
   "metadata": {},
   "source": [
    "Write a function diag_diff(x,i) which takes a square matrix (=table=list of lists) and the difference of\n",
    "two main diagonals of matrix X. In other words, let d1 be the diagonal of X from upper left to bottom\n",
    "right, and d2 to be the diagonal from upper right to lower left. The function returns d1-d2. Use list\n",
    "comprehensions."
   ]
  },
  {
   "cell_type": "code",
   "execution_count": 4,
   "metadata": {},
   "outputs": [
    {
     "name": "stdout",
     "output_type": "stream",
     "text": [
      "0\n"
     ]
    }
   ],
   "source": [
    "a = [[1, 2, 3,], \n",
    "     [4, 5, 6],\n",
    "     [7, 8, 9]]\n",
    "\n",
    "def diag_diff(x, i):\n",
    "    s1 = sum([x[i][j] for j in range(len(x))])\n",
    "    s2 = sum([x[j][len(x)-1-j] for j in range (len (x))])\n",
    "\n",
    "    return s1 - s2\n",
    "\n",
    "print (diag_diff(a, 1))"
   ]
  },
  {
   "cell_type": "markdown",
   "metadata": {},
   "source": [
    "Write a function sum_col(x,i) which takes a square matrix (=table=list of lists) and the sum of the\n",
    "items in the ith column of matrix X. Use a list comprehension."
   ]
  },
  {
   "cell_type": "code",
   "execution_count": 6,
   "metadata": {},
   "outputs": [
    {
     "name": "stdout",
     "output_type": "stream",
     "text": [
      "15\n"
     ]
    }
   ],
   "source": [
    "def sum_col(x, i): \n",
    "    col = sum([x[j][i] for j in range(len(x))])\n",
    "    return col\n",
    "\n",
    "a = [[1, 2, 3,], \n",
    "     [4, 5, 6],\n",
    "     [7, 8, 9]]\n",
    "\n",
    "print (sum_col(a, 1))"
   ]
  },
  {
   "cell_type": "markdown",
   "metadata": {},
   "source": [
    "Early versions of Python distinguished between int and long. ints were represented natively on the\n",
    "hardware and longs were lists of integers. From version 3.0 and on all integer types are represented as\n",
    "longs.\n",
    "Write a function make_int (x: str) -> list:\n",
    "that takes a string of digits and returns a list of those digits. Use a list comprehension."
   ]
  },
  {
   "cell_type": "code",
   "execution_count": 8,
   "metadata": {},
   "outputs": [
    {
     "name": "stdout",
     "output_type": "stream",
     "text": [
      "[1, 2, 3, 4, 5]\n"
     ]
    }
   ],
   "source": [
    "def make_int(x:str) -> list: \n",
    "    return [int(i) for i in x]\n",
    "\n",
    "print(make_int(\"12345\"))"
   ]
  },
  {
   "cell_type": "markdown",
   "metadata": {},
   "source": [
    "Write a function int_add(x,y) that takes two “integers” as represented above, and returns their sum.\n",
    "Note that these “integers” needn’t be the same size. You can simplify your program by padding the shorter one with\n",
    "zeros (on the left).\n",
    "Note as well, there might be a final carry that will increase the answer by one digit more than the addends.\n",
    "\n"
   ]
  },
  {
   "cell_type": "code",
   "execution_count": null,
   "metadata": {},
   "outputs": [],
   "source": [
    "def int_add(x, y):\n",
    "    z = [x[i] + y[i] for i in range (len(x)) if ])"
   ]
  },
  {
   "cell_type": "markdown",
   "metadata": {},
   "source": [
    "Do this for homework!!"
   ]
  },
  {
   "cell_type": "markdown",
   "metadata": {},
   "source": [
    "Write a function matrix_add(x,y) that takes two square “matrices” and returns their sum."
   ]
  },
  {
   "cell_type": "code",
   "execution_count": 12,
   "metadata": {},
   "outputs": [
    {
     "name": "stdout",
     "output_type": "stream",
     "text": [
      "[2, 4, 6, 8, 10, 12, 14, 16, 18]\n"
     ]
    }
   ],
   "source": [
    "def matrix_add(x, y):\n",
    "    s1 = []\n",
    "    for i in range (len(x)):\n",
    "        for j in range(len(x)):\n",
    "            s1.append(x[i][j]+ y[i][j])    \n",
    "    return s1\n",
    "\n",
    "a = [[1, 2, 3],\n",
    "     [4, 5, 6],\n",
    "     [7, 8, 9]]\n",
    "b = [[1, 2, 3],\n",
    "     [4, 5, 6],\n",
    "     [7, 8, 9]]\n",
    "\n",
    "print(matrix_add(a, b))"
   ]
  },
  {
   "cell_type": "markdown",
   "metadata": {},
   "source": [
    "Problem 1: Create a 2D List of Zeros (3x3 Matrix)\n",
    "Create a 3x3 matrix (3 rows and 3 columns) filled with 0s using list comprehension.\n",
    "[[0, 0, 0],\n",
    "[0, 0, 0],\n",
    "[0, 0, 0]]"
   ]
  },
  {
   "cell_type": "code",
   "execution_count": 14,
   "metadata": {},
   "outputs": [
    {
     "name": "stdout",
     "output_type": "stream",
     "text": [
      "<function zero_list at 0x10c568cc0>\n"
     ]
    }
   ],
   "source": [
    "def zero_list():\n",
    "    z = [[0][0] * 3]\n",
    "    return z\n",
    "\n",
    "print(zero_list)"
   ]
  },
  {
   "cell_type": "markdown",
   "metadata": {},
   "source": [
    "Problem 2: Create a 2D List with Incremental Values\n",
    "[[0, 1, 2],\n",
    "[3, 4, 5],\n",
    "[6, 7, 8]]"
   ]
  },
  {
   "cell_type": "code",
   "execution_count": 18,
   "metadata": {},
   "outputs": [
    {
     "name": "stdout",
     "output_type": "stream",
     "text": [
      "[[0, 1, 2], [1, 2, 3], [2, 3, 4]]\n"
     ]
    }
   ],
   "source": [
    "z = [[i + j for i in range(3)] for j in range(3)]\n",
    "\n",
    "print (z)"
   ]
  },
  {
   "cell_type": "markdown",
   "metadata": {},
   "source": [
    "C[i][j] = (row i in A + col j in b)"
   ]
  },
  {
   "cell_type": "code",
   "execution_count": 1,
   "metadata": {},
   "outputs": [
    {
     "name": "stdout",
     "output_type": "stream",
     "text": [
      "[1, 4, 7, 10, 25, 40, 27, 54, 81]\n"
     ]
    }
   ],
   "source": [
    "def matrix_multiply(x, y):\n",
    "    s1 = []\n",
    "    for i in range (len(x)):\n",
    "        for j in range(len(x)):\n",
    "            s1.append(x[i][i] * y[j][i])    \n",
    "    return s1\n",
    "\n",
    "a = [[1, 2, 3],\n",
    "     [4, 5, 6],\n",
    "     [7, 8, 9]]\n",
    "b = [[1, 2, 3],\n",
    "     [4, 5, 6],\n",
    "     [7, 8, 9]]\n",
    "\n",
    "print (matrix_multiply(a, b))\n"
   ]
  },
  {
   "cell_type": "markdown",
   "metadata": {},
   "source": [
    "Problem:\n",
    "Write a function that reverses a string. Remember, a string is not mutable! Do it two ways: using slicing,\n",
    "and using a loop.\n",
    "Answer:"
   ]
  },
  {
   "cell_type": "code",
   "execution_count": null,
   "metadata": {},
   "outputs": [
    {
     "name": "stdout",
     "output_type": "stream",
     "text": [
      "<built-in method split of str object at 0x106216270>\n"
     ]
    }
   ],
   "source": [
    "x = \"Wowie this is crazy\"\n",
    "w = x.split[]\n",
    "\n",
    "print (w)\n"
   ]
  }
 ],
 "metadata": {
  "kernelspec": {
   "display_name": "Python 3",
   "language": "python",
   "name": "python3"
  },
  "language_info": {
   "codemirror_mode": {
    "name": "ipython",
    "version": 3
   },
   "file_extension": ".py",
   "mimetype": "text/x-python",
   "name": "python",
   "nbconvert_exporter": "python",
   "pygments_lexer": "ipython3",
   "version": "3.12.0"
  }
 },
 "nbformat": 4,
 "nbformat_minor": 2
}
